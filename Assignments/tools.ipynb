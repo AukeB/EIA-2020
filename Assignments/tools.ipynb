{
 "cells": [
  {
   "cell_type": "code",
   "execution_count": 2,
   "metadata": {},
   "outputs": [],
   "source": [
    "# Imports\n",
    "import numpy as np"
   ]
  },
  {
   "cell_type": "code",
   "execution_count": 3,
   "metadata": {},
   "outputs": [],
   "source": [
    "# Global constants.\n",
    "M_earth = 5.9764e27 # Earth mass (g)\n",
    "M_sun = 1.9892e33 # Sun mass (g)\n",
    "R_earth = 6.37e8 # Earth radius (cm)\n",
    "\n",
    "# Mass array.\n",
    "M_arr = [3,5,7,10,12,15]"
   ]
  },
  {
   "cell_type": "code",
   "execution_count": 15,
   "metadata": {},
   "outputs": [],
   "source": [
    "# To compute core densities for part 1b of the assignment.\n",
    "def compute_core(M):\n",
    "    # R/R_earth = (M/M_earth)^0.27 (Valencia et al. 2006)\n",
    "    R = M**0.27\n",
    "    rho = (M*M_earth)/(4/3 * np.pi *(R*R_earth)**3) # g/cm3\n",
    "    print(f'M = {M} ME ({M*M_earth/M_sun} MS) ===> rho_core = {rho:.3f} g/cm^3')\n",
    "    \n",
    "# Compute total new masses for part 1c of the assignment.\n",
    "def new_mass(M_c, f):\n",
    "    M_p = M_c * (1+(f/(1-f)))\n",
    "    print(f'M_c = {M_c} ME, M_p = {M_p*M_earth/M_sun} MS, {M_p}')\n",
    "\n",
    "# Compute L_core for part 1e of the assignment.\n",
    "def new_L_core(M):\n",
    "    nuclear_energy_rate = 5e-8 # erg g-1 s-1\n",
    "    new_L_center =  nuclear_energy_rate * M_earth * M\n",
    "    print(f'M = {M}, L = {new_L_center}')"
   ]
  },
  {
   "cell_type": "code",
   "execution_count": 16,
   "metadata": {},
   "outputs": [
    {
     "name": "stdout",
     "output_type": "stream",
     "text": [
      "M = 3 ME (9.01327166700181e-06 MS) ===> rho_core = 6.801 g/cm^3\n",
      "M = 5 ME (1.5022119445003016e-05 MS) ===> rho_core = 7.494 g/cm^3\n",
      "M = 7 ME (2.1030967223004224e-05 MS) ===> rho_core = 7.989 g/cm^3\n",
      "M = 10 ME (3.0044238890006032e-05 MS) ===> rho_core = 8.549 g/cm^3\n",
      "M = 12 ME (3.605308666800724e-05 MS) ===> rho_core = 8.851 g/cm^3\n",
      "M = 15 ME (4.506635833500905e-05 MS) ===> rho_core = 9.234 g/cm^3\n"
     ]
    }
   ],
   "source": [
    "for i in M_arr:\n",
    "    compute_core(i)"
   ]
  },
  {
   "cell_type": "code",
   "execution_count": 17,
   "metadata": {},
   "outputs": [
    {
     "name": "stdout",
     "output_type": "stream",
     "text": [
      "f = 0.01 gives:\n",
      "M_c = 3 ME, M_p = 9.104314815153343e-06 MS, 3.0303030303030303\n",
      "M_c = 5 ME, M_p = 1.5173858025255574e-05 MS, 5.050505050505051\n",
      "M_c = 7 ME, M_p = 2.12434012353578e-05 MS, 7.070707070707071\n",
      "M_c = 10 ME, M_p = 3.0347716050511148e-05 MS, 10.101010101010102\n",
      "M_c = 12 ME, M_p = 3.641725926061337e-05 MS, 12.121212121212121\n",
      "M_c = 15 ME, M_p = 4.5521574075766714e-05 MS, 15.151515151515152\n",
      "\n",
      "\n",
      "f = 0.1 gives:\n",
      "M_c = 3 ME, M_p = 1.0014746296668679e-05 MS, 3.3333333333333335\n",
      "M_c = 5 ME, M_p = 1.669124382778113e-05 MS, 5.555555555555555\n",
      "M_c = 7 ME, M_p = 2.336774135889358e-05 MS, 7.777777777777779\n",
      "M_c = 10 ME, M_p = 3.338248765556226e-05 MS, 11.11111111111111\n",
      "M_c = 12 ME, M_p = 4.0058985186674714e-05 MS, 13.333333333333334\n",
      "M_c = 15 ME, M_p = 5.007373148334339e-05 MS, 16.666666666666668\n"
     ]
    }
   ],
   "source": [
    "f1 = 0.01\n",
    "print(f'f = {f1} gives:')\n",
    "for i in M_arr:\n",
    "    new_mass(i, f1)\n",
    "\n",
    "print('\\n')    \n",
    "\n",
    "f2 = 0.1\n",
    "print(f'f = {f2} gives:')\n",
    "for i in M_arr:\n",
    "    new_mass(i, f2)"
   ]
  },
  {
   "cell_type": "code",
   "execution_count": 18,
   "metadata": {},
   "outputs": [
    {
     "name": "stdout",
     "output_type": "stream",
     "text": [
      "M = 3, L = 8.9646e+20\n",
      "M = 5, L = 1.4941e+21\n",
      "M = 7, L = 2.09174e+21\n",
      "M = 10, L = 2.9882e+21\n",
      "M = 12, L = 3.58584e+21\n",
      "M = 15, L = 4.4823e+21\n"
     ]
    }
   ],
   "source": [
    "for i in M_arr:\n",
    "    new_L_core(i)"
   ]
  },
  {
   "cell_type": "code",
   "execution_count": null,
   "metadata": {},
   "outputs": [],
   "source": []
  }
 ],
 "metadata": {
  "kernelspec": {
   "display_name": "Python 3",
   "language": "python",
   "name": "python3"
  },
  "language_info": {
   "codemirror_mode": {
    "name": "ipython",
    "version": 3
   },
   "file_extension": ".py",
   "mimetype": "text/x-python",
   "name": "python",
   "nbconvert_exporter": "python",
   "pygments_lexer": "ipython3",
   "version": "3.6.5"
  }
 },
 "nbformat": 4,
 "nbformat_minor": 2
}

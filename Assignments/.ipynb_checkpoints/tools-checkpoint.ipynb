{
 "cells": [
  {
   "cell_type": "code",
   "execution_count": 47,
   "metadata": {},
   "outputs": [],
   "source": [
    "# Imports\n",
    "import numpy as np"
   ]
  },
  {
   "cell_type": "code",
   "execution_count": 69,
   "metadata": {},
   "outputs": [],
   "source": [
    "# Global constants.\n",
    "M_earth = 5.9764e27 # Earth mass (g)\n",
    "M_sun = 1.9892e33 # Sun mass (g)\n",
    "R_earth = 6.37e8 # Earth radius (cm)\n",
    "\n",
    "# Mass array.\n",
    "M_arr = [3,5,7,10,12,15]"
   ]
  },
  {
   "cell_type": "code",
   "execution_count": 71,
   "metadata": {},
   "outputs": [],
   "source": [
    "# To compute core densities for part 1b of the assignment.\n",
    "def compute_core(M):\n",
    "    # R/R_earth = (M/M_earth)^0.27 (Valencia et al. 2006)\n",
    "    R = M**0.27\n",
    "    rho = (M*M_earth)/(4/3 * np.pi *(R*R_earth)**3) # g/cm3\n",
    "    print(f'M = {M} ME ({M*M_earth/M_sun} MS) ===> rho_core = {rho:.3f} g/cm^3')\n",
    "    \n",
    "# Compute total new masses for part 1c of the assignment.\n",
    "def new_mass(M, f):\n",
    "    M_p = 30\n",
    "    M_env = M_p * f\n",
    "    \n",
    "    "
   ]
  },
  {
   "cell_type": "code",
   "execution_count": 70,
   "metadata": {},
   "outputs": [
    {
     "name": "stdout",
     "output_type": "stream",
     "text": [
      "M = 3 ME (9.01327166700181e-06 MS) ===> rho_core = 6.801 g/cm^3\n",
      "M = 5 ME (1.5022119445003016e-05 MS) ===> rho_core = 7.494 g/cm^3\n",
      "M = 7 ME (2.1030967223004224e-05 MS) ===> rho_core = 7.989 g/cm^3\n",
      "M = 10 ME (3.0044238890006032e-05 MS) ===> rho_core = 8.549 g/cm^3\n",
      "M = 12 ME (3.605308666800724e-05 MS) ===> rho_core = 8.851 g/cm^3\n",
      "M = 15 ME (4.506635833500905e-05 MS) ===> rho_core = 9.234 g/cm^3\n"
     ]
    }
   ],
   "source": [
    "for i in M_arr:\n",
    "    compute_core(i)"
   ]
  },
  {
   "cell_type": "code",
   "execution_count": null,
   "metadata": {},
   "outputs": [],
   "source": []
  }
 ],
 "metadata": {
  "kernelspec": {
   "display_name": "Python 3",
   "language": "python",
   "name": "python3"
  },
  "language_info": {
   "codemirror_mode": {
    "name": "ipython",
    "version": 3
   },
   "file_extension": ".py",
   "mimetype": "text/x-python",
   "name": "python",
   "nbconvert_exporter": "python",
   "pygments_lexer": "ipython3",
   "version": "3.6.5"
  }
 },
 "nbformat": 4,
 "nbformat_minor": 2
}
